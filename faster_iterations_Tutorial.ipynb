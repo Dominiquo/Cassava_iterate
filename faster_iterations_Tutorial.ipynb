{
 "cells": [
  {
   "cell_type": "code",
   "execution_count": 40,
   "metadata": {
    "collapsed": false
   },
   "outputs": [],
   "source": [
    "from misc import *\n",
    "from classify_models import vgg16_model\n",
    "from misc import utils\n",
    "import numpy as np\n",
    "\n",
    "from datatypes import ImageTraining as it\n",
    "from sklearn.utils.class_weight import compute_class_weight"
   ]
  },
  {
   "cell_type": "markdown",
   "metadata": {},
   "source": [
    "##### Goal"
   ]
  },
  {
   "cell_type": "markdown",
   "metadata": {},
   "source": [
    "The goal of this notebook is to show how we can quickly iteratate and test different partitions of the data using the generators I made this summer and the models Ben has been using in his own iterations. The reason I opt to use these rather than our current method is because \n",
    "* less repeated code\n",
    "* more easily repeatable since we don't have to copy and paste new 'train/' and 'validate/' folders\n",
    "* Most of all, I want to try unique groupings that maintain a little more order in the sense that related models (control, experimental) are side by side. "
   ]
  },
  {
   "cell_type": "markdown",
   "metadata": {},
   "source": [
    "#### File Sets"
   ]
  },
  {
   "cell_type": "markdown",
   "metadata": {},
   "source": [
    "More Information on Generator Tutorial\n",
    "\n",
    "First, we need to define our structure of files. I have my image files all stored in <br> ../Severity_final  \n",
    "which is not in the repo. I then have one folder for each disease and healthy then another folder for each severity of the diseases. You should be able to infer the structure from the code below, but please ask me if you have questions. "
   ]
  },
  {
   "cell_type": "code",
   "execution_count": 1,
   "metadata": {
    "collapsed": true
   },
   "outputs": [],
   "source": [
    "# prefix = '../Severities_Final'\n",
    "# prefix = '../Severity_cropped'\n",
    "\n",
    "def produce_files(prefix):\n",
    "    cbb_files = [prefix + '/cbb-levels/cbb_2/',\n",
    "                prefix + '/cbb-levels/cbb_3/',\n",
    "                prefix + '/cbb-levels/cbb_4/',\n",
    "                prefix + '/cbb-levels/cbb_5/']\n",
    "\n",
    "\n",
    "    cgm_files = [prefix + '/cgm-levels/cgm_2/',\n",
    "                prefix + '/cgm-levels/cgm_3/',\n",
    "                prefix + '/cgm-levels/cgm_4/',\n",
    "                prefix + '/cgm-levels/cgm_5/']\n",
    "\n",
    "\n",
    "    cmd_files = [prefix + '/cmd-levels/cmd_2/',\n",
    "                prefix + '/cmd-levels/cmd_3/',\n",
    "                prefix + '/cmd-levels/cmd_4/',\n",
    "                prefix + '/cmd-levels/cmd_5/']\n",
    "\n",
    "\n",
    "    cbsd_files = [prefix + '/cbsd-levels/cbsd_2/',\n",
    "                 prefix + '/cbsd-levels/cbsd_3/',\n",
    "                 prefix + '/cbsd-levels/cbsd_4/',\n",
    "                 prefix + '/cbsd-levels/cbsd_5/']\n",
    "\n",
    "\n",
    "    healthy_images = [prefix + '/healthy_1/']\n",
    "\n",
    "    return cbb_files, cgm_files, cmd_files, cbsd_files, healthy_images\n",
    "    "
   ]
  },
  {
   "cell_type": "markdown",
   "metadata": {},
   "source": [
    "## Example 1: Healthy vs CBSD (Uncropped)"
   ]
  },
  {
   "cell_type": "markdown",
   "metadata": {},
   "source": [
    "### Defining Label_Dict"
   ]
  },
  {
   "cell_type": "markdown",
   "metadata": {},
   "source": [
    "More information in Generator Tutorial IPYNB\n",
    "\n",
    "The source of how I make the different \"partitions\" of files is in my label dict. The label_dict is a dictionary object where the key is an integer and value is a list of directories that include photos for that label."
   ]
  },
  {
   "cell_type": "code",
   "execution_count": 45,
   "metadata": {
    "collapsed": false
   },
   "outputs": [],
   "source": [
    "uncropped_prefix = '../Severities_Final/'\n",
    "cbb_files, cgm_files, cmd_files, cbsd_files, healthy_images = produce_files(uncropped_prefix)\n",
    "\n",
    "label_dict = {1: healthy_images, 0: cbsd_files}\n",
    "num_classes = 2\n",
    "class_names = ['cbsd','healthy']"
   ]
  },
  {
   "cell_type": "code",
   "execution_count": 6,
   "metadata": {
    "collapsed": false
   },
   "outputs": [
    {
     "name": "stdout",
     "output_type": "stream",
     "text": [
      "Found 1474 examples with label 1\n",
      "Found 1743 examples with label 0\n"
     ]
    }
   ],
   "source": [
    "paths, labels = utils.get_paths_labels(label_dict)"
   ]
  },
  {
   "cell_type": "code",
   "execution_count": 8,
   "metadata": {
    "collapsed": false
   },
   "outputs": [
    {
     "name": "stdout",
     "output_type": "stream",
     "text": [
      "Found 1474 examples with label 1\n",
      "Found 1743 examples with label 0\n",
      "partitioning data with train size 2573 and test size 643\n"
     ]
    }
   ],
   "source": [
    "batch_size = 16\n",
    "target_size = (224, 224)\n",
    "\n",
    "itrain = it.ImageTraining(label_dict)\n",
    "traingen, testgen = itrain.get_train_test_generators(batch_size=batch_size, target_size=target_size)"
   ]
  },
  {
   "cell_type": "code",
   "execution_count": 28,
   "metadata": {
    "collapsed": false
   },
   "outputs": [
    {
     "name": "stdout",
     "output_type": "stream",
     "text": [
      "steps in train generator: 160\n",
      "steps in test generator: 40\n"
     ]
    }
   ],
   "source": [
    "steps_test = testgen.n // batch_size\n",
    "steps_train = traingen.n // batch_size\n",
    "print('steps in train generator:',steps_train)\n",
    "print('steps in test generator:',steps_test)\n",
    "\n",
    "class_weight = compute_class_weight(class_weight='balanced',\n",
    "                                    classes=np.unique(traingen.classes),\n",
    "                                    y=traingen.classes)"
   ]
  },
  {
   "cell_type": "code",
   "execution_count": null,
   "metadata": {
    "collapsed": true
   },
   "outputs": [],
   "source": [
    "model = vgg16_model.get_transfer_model(num_classes=num_classes)"
   ]
  },
  {
   "cell_type": "code",
   "execution_count": 30,
   "metadata": {
    "collapsed": false
   },
   "outputs": [],
   "source": [
    "history = model.fit_generator(generator=traingen,\n",
    "                                  epochs=5,\n",
    "                                  steps_per_epoch=steps_train,\n",
    "                                  class_weight=class_weight,\n",
    "                                  validation_data=testgen,\n",
    "                                  validation_steps=steps_test)"
   ]
  },
  {
   "cell_type": "code",
   "execution_count": null,
   "metadata": {
    "collapsed": true
   },
   "outputs": [],
   "source": []
  },
  {
   "cell_type": "markdown",
   "metadata": {},
   "source": [
    "## Example 2: Healthy vs CBSD (Cropped)"
   ]
  },
  {
   "cell_type": "code",
   "execution_count": 46,
   "metadata": {
    "collapsed": true
   },
   "outputs": [],
   "source": [
    "uncropped_prefix = '../Severity_cropped/'\n",
    "cbb_files, cgm_files, cmd_files, cbsd_files, healthy_images = produce_files(uncropped_prefix)\n",
    "\n",
    "label_dict = {1: healthy_images, 0: cbsd_files}\n",
    "num_classes = 2\n",
    "class_names = ['cbsd','healthy']"
   ]
  },
  {
   "cell_type": "markdown",
   "metadata": {},
   "source": [
    "#### Repeat same code as example one except this time the photo source is changed"
   ]
  },
  {
   "cell_type": "markdown",
   "metadata": {},
   "source": [
    "## Example 3: Healthy vs CBSD vs CGM (Uncropped)"
   ]
  },
  {
   "cell_type": "code",
   "execution_count": 37,
   "metadata": {
    "collapsed": true
   },
   "outputs": [],
   "source": [
    "uncropped_prefix = '../Severities_Final/'\n",
    "cbb_files, cgm_files, cmd_files, cbsd_files, healthy_images = produce_files(uncropped_prefix)\n",
    "\n",
    "e3_label_dict = {1: healthy_images, 0: cbsd_files, 2: cgm_files}\n",
    "num_classes = 3\n",
    "class_names = ['cbsd','healthy', 'cgm']"
   ]
  },
  {
   "cell_type": "code",
   "execution_count": 38,
   "metadata": {
    "collapsed": false
   },
   "outputs": [
    {
     "name": "stdout",
     "output_type": "stream",
     "text": [
      "Found 1474 examples with label 1\n",
      "Found 1743 examples with label 0\n",
      "Found 722 examples with label 2\n"
     ]
    }
   ],
   "source": [
    "paths, labels = utils.get_paths_labels(e3_label_dict)"
   ]
  },
  {
   "cell_type": "code",
   "execution_count": 41,
   "metadata": {
    "collapsed": false
   },
   "outputs": [
    {
     "name": "stdout",
     "output_type": "stream",
     "text": [
      "Found 1474 examples with label 1\n",
      "Found 1743 examples with label 0\n",
      "Found 722 examples with label 2\n",
      "partitioning data with train size 3151 and test size 787\n"
     ]
    }
   ],
   "source": [
    "batch_size = 16\n",
    "target_size = (224, 224)\n",
    "\n",
    "itrain = it.ImageTraining(e3_label_dict)\n",
    "traingen, testgen = itrain.get_train_test_generators(batch_size=batch_size, target_size=target_size)"
   ]
  },
  {
   "cell_type": "code",
   "execution_count": 42,
   "metadata": {
    "collapsed": false
   },
   "outputs": [
    {
     "name": "stdout",
     "output_type": "stream",
     "text": [
      "steps in train generator: 196\n",
      "steps in test generator: 49\n"
     ]
    },
    {
     "data": {
      "text/plain": [
       "array([0.74810066, 0.89848874, 1.8171857 ])"
      ]
     },
     "execution_count": 42,
     "metadata": {},
     "output_type": "execute_result"
    }
   ],
   "source": [
    "steps_test = testgen.n // batch_size\n",
    "steps_train = traingen.n // batch_size\n",
    "print('steps in train generator:',steps_train)\n",
    "print('steps in test generator:',steps_test)\n",
    "\n",
    "class_weight = compute_class_weight(class_weight='balanced',\n",
    "                                    classes=np.unique(traingen.classes),\n",
    "                                    y=traingen.classes)\n",
    "class_weight"
   ]
  },
  {
   "cell_type": "code",
   "execution_count": null,
   "metadata": {
    "collapsed": true
   },
   "outputs": [],
   "source": [
    "model = vgg16_model.get_transfer_model(num_classes=num_classes)"
   ]
  },
  {
   "cell_type": "code",
   "execution_count": null,
   "metadata": {
    "collapsed": true
   },
   "outputs": [],
   "source": [
    "history = model.fit_generator(generator=traingen,\n",
    "                                  epochs=5,\n",
    "                                  steps_per_epoch=steps_train,\n",
    "                                  class_weight=class_weight,\n",
    "                                  validation_data=testgen,\n",
    "                                  validation_steps=steps_test)"
   ]
  },
  {
   "cell_type": "markdown",
   "metadata": {},
   "source": [
    "### Continue with iterations and photo types as much as you want"
   ]
  },
  {
   "cell_type": "code",
   "execution_count": 47,
   "metadata": {
    "collapsed": true
   },
   "outputs": [],
   "source": [
    "#TODO add in all evaluation and graphing functions from misc/ben_utils.py (pasted code that\n",
    "# needs to be integrated to fit current file structure format) "
   ]
  },
  {
   "cell_type": "code",
   "execution_count": null,
   "metadata": {
    "collapsed": true
   },
   "outputs": [],
   "source": []
  }
 ],
 "metadata": {
  "kernelspec": {
   "display_name": "py36conda",
   "language": "python",
   "name": "py36conda"
  },
  "language_info": {
   "codemirror_mode": {
    "name": "ipython",
    "version": 3
   },
   "file_extension": ".py",
   "mimetype": "text/x-python",
   "name": "python",
   "nbconvert_exporter": "python",
   "pygments_lexer": "ipython3",
   "version": "3.6.1"
  }
 },
 "nbformat": 4,
 "nbformat_minor": 0
}
