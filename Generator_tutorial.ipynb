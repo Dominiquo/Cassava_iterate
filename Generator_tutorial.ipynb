{
 "cells": [
  {
   "cell_type": "code",
   "execution_count": 15,
   "metadata": {
    "collapsed": false
   },
   "outputs": [],
   "source": [
    "from datatypes import ImageGenerator, ImageTraining as it\n",
    "from misc import utils\n",
    "import os"
   ]
  },
  {
   "cell_type": "markdown",
   "metadata": {},
   "source": [
    "### Usage\n",
    "\n",
    "This was made because I had a lot of frustration using the image generators built into Keras/Tensorflow. The original functions and classes only allow you to flow from a single directory. The issue was that I wanted to mix and match my directories with different labels. For example, if we see below, we have 3 types of diseases with 4 levels of severity each as well as a class of healthy leaves. \n",
    "\n",
    "If I want to measure the models capabilities at classifying Healthy vs Diseased, I would have to move the photos into a directory of training and split them into training and validation files. I didn't want to do this.\n",
    "\n",
    "Instead, we just give a dictionary where the (integer) keys are the labels and the value is a list of directories."
   ]
  },
  {
   "cell_type": "code",
   "execution_count": 6,
   "metadata": {
    "collapsed": false
   },
   "outputs": [
    {
     "name": "stdout",
     "output_type": "stream",
     "text": [
      "sampleData/\n",
      "sampleData/cbb\n",
      "sampleData/cbb/cbb2\n",
      "sampleData/cbb/cbb3\n",
      "sampleData/cbb/cbb4\n",
      "sampleData/cbb/cbb5\n",
      "sampleData/cbsd\n",
      "sampleData/cbsd/cbsd2\n",
      "sampleData/cbsd/cbsd3\n",
      "sampleData/cbsd/cbsd4\n",
      "sampleData/cbsd/cbsd5\n",
      "sampleData/cmd\n",
      "sampleData/cmd/cmd2\n",
      "sampleData/cmd/cmd3\n",
      "sampleData/cmd/cmd4\n",
      "sampleData/cmd/cmd5\n",
      "sampleData/healthy\n"
     ]
    }
   ],
   "source": [
    "for f in os.walk('sampleData/'):\n",
    "    print f[0]"
   ]
  },
  {
   "cell_type": "code",
   "execution_count": 7,
   "metadata": {
    "collapsed": true
   },
   "outputs": [],
   "source": [
    "cbb_files = ['sampleData/cbb/cbb2/',\n",
    "            'sampleData/cbb/cbb3/',\n",
    "            'sampleData/cbb/cbb4/',\n",
    "            'sampleData/cbb/cbb5/']\n",
    "\n",
    "\n",
    "cgm_files = ['sampleData/cgm/cgm2/',\n",
    "            'sampleData/cgm/cgm3/',\n",
    "            'sampleData/cgm/cgm4/',\n",
    "            'sampleData/cgm/cgm5/']\n",
    "\n",
    "\n",
    "cmd_files = ['sampleData/cmd/cmd2/',\n",
    "            'sampleData/cmd/cmd3/',\n",
    "            'sampleData/cmd/cmd4/',\n",
    "            'sampleData/cmd/cmd5/']\n",
    "\n",
    "\n",
    "cbsd_files = ['sampleData/cbsd/cbsd2/',\n",
    "             'sampleData/cbsd/cbsd3/',\n",
    "             'sampleData/cbsd/cbsd4/',\n",
    "             'sampleData/cbsd/cbsd5/']\n",
    "\n",
    "\n",
    "healthy_images = ['sampleData/healthy/']\n",
    "\n",
    "all_files_list = [cbb_files, cgm_files, cmd_files, cbsd_files, healthy_images]"
   ]
  },
  {
   "cell_type": "markdown",
   "metadata": {},
   "source": [
    "#### Create Dictionary of Directories and Labels"
   ]
  },
  {
   "cell_type": "markdown",
   "metadata": {},
   "source": [
    "For example, if we want to make model the classify between healthy images and leaves with CBSD, we want to combine all the directories (e.g. severities 2,3,4,5)."
   ]
  },
  {
   "cell_type": "code",
   "execution_count": 24,
   "metadata": {
    "collapsed": true
   },
   "outputs": [],
   "source": [
    "# label dict \n",
    "# key: integer classes\n",
    "# values: list of directory path containing images of that class [directory1, directory2,...,directoryN]\n",
    "label_dict = {1: healthy_images, 0: cbsd_files}"
   ]
  },
  {
   "cell_type": "code",
   "execution_count": 14,
   "metadata": {
    "collapsed": false
   },
   "outputs": [
    {
     "name": "stdout",
     "output_type": "stream",
     "text": [
      "Found 8 examples with label 0\n",
      "Found 2 examples with label 1\n"
     ]
    }
   ],
   "source": [
    "paths, labels = utils.get_paths_labels(label_dict)"
   ]
  },
  {
   "cell_type": "code",
   "execution_count": 22,
   "metadata": {
    "collapsed": false
   },
   "outputs": [
    {
     "name": "stdout",
     "output_type": "stream",
     "text": [
      "Found 8 examples with label 0\n",
      "Found 2 examples with label 1\n",
      "partitioning data with train size 8 and test size 1\n"
     ]
    }
   ],
   "source": [
    "batch_size = 2\n",
    "target_size = (150, 150)\n",
    "\n",
    "itrain = it.ImageTraining(label_dict)\n",
    "traingen, testgen = itrain.get_train_test_generators(batch_size=batch_size, target_size=target_size)"
   ]
  },
  {
   "cell_type": "code",
   "execution_count": 23,
   "metadata": {
    "collapsed": false
   },
   "outputs": [
    {
     "name": "stdout",
     "output_type": "stream",
     "text": [
      "batch_size: 2, x_dimension: 150, y_dimension: 150, n_channels: 3\n",
      "images: 2, classes: 2\n"
     ]
    }
   ],
   "source": [
    "for x,y in traingen:\n",
    "    print 'batch_size: %d, x_dimension: %d, y_dimension: %d, n_channels: %d' % x.shape\n",
    "    print 'images: %d, classes: %d' % y.shape\n",
    "    break"
   ]
  }
 ],
 "metadata": {
  "kernelspec": {
   "display_name": "Python 2",
   "language": "python",
   "name": "python2"
  },
  "language_info": {
   "codemirror_mode": {
    "name": "ipython",
    "version": 2
   },
   "file_extension": ".py",
   "mimetype": "text/x-python",
   "name": "python",
   "nbconvert_exporter": "python",
   "pygments_lexer": "ipython2",
   "version": "2.7.12"
  }
 },
 "nbformat": 4,
 "nbformat_minor": 0
}
